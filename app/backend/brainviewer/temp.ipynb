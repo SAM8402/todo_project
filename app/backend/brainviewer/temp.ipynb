{
 "cells": [
  {
   "cell_type": "code",
   "execution_count": 25,
   "id": "9caecd6c",
   "metadata": {},
   "outputs": [],
   "source": [
    "import requests\n",
    "def fetch_brain_viewer_details(biosample_id):\n",
    "    bfidic = {\n",
    "        \"222\": 100,\n",
    "        \"244\": 116,\n",
    "    }\n",
    "    bfi_value = bfidic.get(str(biosample_id))\n",
    "    if not bfi_value:\n",
    "        return None\n",
    "    url = f\"http://dev2adi.humanbrain.in:8000/GW/getBrainViewerDetails/IIT/V1/SS-{bfi_value}:-1:-1\"\n",
    "    try:\n",
    "        response = requests.get(url)\n",
    "        response.raise_for_status()  # Raise an error if the response code isn't 200\n",
    "        return response.json()  # Or response.text based on the expected data format\n",
    "    except requests.exceptions.RequestException as e:\n",
    "        return None"
   ]
  },
  {
   "cell_type": "code",
   "execution_count": 26,
   "id": "91858a3c",
   "metadata": {},
   "outputs": [],
   "source": [
    "def get_haematoxylin_and_eosin_metadata(biosample_id, section_number):\n",
    "    # Fetch the JSON data\n",
    "    json_data = fetch_brain_viewer_details(biosample_id)\n",
    "    if not json_data:\n",
    "        return None\n",
    "\n",
    "    # Get HEOS section data safely\n",
    "    heos_data = json_data.get('thumbNail', {}).get(\n",
    "        \"Haematoxylin and Eosin\", [])\n",
    "    if not heos_data:\n",
    "        return None\n",
    "\n",
    "    # Try exact match first\n",
    "    exact_matches = [item for item in heos_data if str(\n",
    "        item.get('position_index')) == str(section_number)]\n",
    "    if exact_matches:\n",
    "        return exact_matches\n",
    "\n",
    "    # If not found, try nearest by numeric difference\n",
    "    try:\n",
    "        section_number_int = int(section_number)\n",
    "    except ValueError:\n",
    "        return None\n",
    "\n",
    "    valid_indices = [item.get('position_index') for item in heos_data if isinstance(\n",
    "        item.get('position_index'), int)]\n",
    "    if not valid_indices:\n",
    "        return None\n",
    "\n",
    "    nearest_index = min(\n",
    "        valid_indices, key=lambda x: abs(x - section_number_int))\n",
    "    nearest_matches = [item for item in heos_data if item.get(\n",
    "        'position_index') == nearest_index]\n",
    "\n",
    "    return nearest_matches if nearest_matches else None"
   ]
  },
  {
   "cell_type": "code",
   "execution_count": 27,
   "id": "6c84b60b",
   "metadata": {},
   "outputs": [
    {
     "data": {
      "text/plain": [
       "[{'id': 195846,\n",
       "  'position_index': 2,\n",
       "  'jp2Path': '/data/storageIIT/humanbrain/analytics/222/HEOS/B_222_FB74-SL_1-ST_HEOS-SE_2_compressed.jp2',\n",
       "  'pngPathLow': '/data/storageIIT/humanbrain/analytics/222/HEOS/B_222_FB74-SL_1-ST_HEOS-SE_2_thumbnail.jpg',\n",
       "  'width': 22664,\n",
       "  'height': 17694,\n",
       "  'series': 309,\n",
       "  'rigidrotation': 180,\n",
       "  'notes': None,\n",
       "  'trsdata': '{\"center\": [30521.670289637936, -16950.44869517583], \"rotation\": 4.208388660220902}',\n",
       "  'export_status': 0,\n",
       "  'rgb_val': None}]"
      ]
     },
     "execution_count": 27,
     "metadata": {},
     "output_type": "execute_result"
    }
   ],
   "source": [
    "get_haematoxylin_and_eosin_metadata(\"222\", \"1\")"
   ]
  },
  {
   "cell_type": "code",
   "execution_count": 28,
   "id": "6b59b2bf",
   "metadata": {},
   "outputs": [],
   "source": [
    "def get_haematoxylin_and_eosin_metadata(biosample_id, section_number):\n",
    "    # Fetch JSON response using predefined fetcher\n",
    "    json_data = fetch_brain_viewer_details(biosample_id)\n",
    "    if not json_data:\n",
    "        return None\n",
    "\n",
    "    heos_data = json_data.get('thumbNail', {}).get(\n",
    "        'Haematoxylin and Eosin', [])\n",
    "    if not heos_data:\n",
    "        return None\n",
    "\n",
    "    # Try exact match first\n",
    "    exact_match = next(\n",
    "        (item for item in heos_data if str(\n",
    "            item.get('position_index')) == str(section_number)),\n",
    "        None\n",
    "    )\n",
    "\n",
    "    match_item = exact_match\n",
    "\n",
    "    # If exact match not found, find the nearest one by numeric distance\n",
    "    if not match_item:\n",
    "        try:\n",
    "            section_number_int = int(section_number)\n",
    "        except ValueError:\n",
    "            return None\n",
    "\n",
    "        valid_items = [item for item in heos_data if isinstance(\n",
    "            item.get('position_index'), int)]\n",
    "        if not valid_items:\n",
    "            return None\n",
    "\n",
    "        nearest_item = min(\n",
    "            valid_items,\n",
    "            key=lambda item: abs(item['position_index'] - section_number_int)\n",
    "        )\n",
    "        match_item = nearest_item\n",
    "\n",
    "    # Extract only required fields\n",
    "    filtered = {\n",
    "        'height': match_item['height'],\n",
    "        'width': match_item['width'],\n",
    "        'rotation': match_item.get('rigidrotation', 0),\n",
    "        'jp2_path_fragment': match_item['jp2Path'],\n",
    "        'position_index': match_item['position_index']\n",
    "    }\n",
    "\n",
    "    return filtered"
   ]
  },
  {
   "cell_type": "code",
   "execution_count": 29,
   "id": "f8236f1b",
   "metadata": {},
   "outputs": [
    {
     "data": {
      "text/plain": [
       "{'height': 17694,\n",
       " 'width': 22664,\n",
       " 'rotation': 180,\n",
       " 'jp2_path_fragment': '/data/storageIIT/humanbrain/analytics/222/HEOS/B_222_FB74-SL_1-ST_HEOS-SE_2_compressed.jp2',\n",
       " 'position_index': 2}"
      ]
     },
     "execution_count": 29,
     "metadata": {},
     "output_type": "execute_result"
    }
   ],
   "source": [
    "get_haematoxylin_and_eosin_metadata(\"222\", \"1\")"
   ]
  },
  {
   "cell_type": "markdown",
   "id": "659258af",
   "metadata": {},
   "source": [
    "git push -u origin master\n",
    "git push -u github main"
   ]
  },
  {
   "cell_type": "markdown",
   "id": "1d23e9ca",
   "metadata": {},
   "source": [
    "for f in *.jpg; do mv -- \"$f\" \"${f%.jpg}.png\"; done\n"
   ]
  }
 ],
 "metadata": {
  "kernelspec": {
   "display_name": "Python 3",
   "language": "python",
   "name": "python3"
  },
  "language_info": {
   "codemirror_mode": {
    "name": "ipython",
    "version": 3
   },
   "file_extension": ".py",
   "mimetype": "text/x-python",
   "name": "python",
   "nbconvert_exporter": "python",
   "pygments_lexer": "ipython3",
   "version": "3.10.12"
  }
 },
 "nbformat": 4,
 "nbformat_minor": 5
}
